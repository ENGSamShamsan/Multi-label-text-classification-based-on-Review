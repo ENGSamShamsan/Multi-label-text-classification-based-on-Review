{
 "cells": [
  {
   "cell_type": "markdown",
   "metadata": {},
   "source": [
    "<b>Identify key aspects of a Review</b>\n",
    "\n",
    "I solved this problem using Machine Learning with TfidfVectorizer and DecisionTreeClassifier\n",
    "I created a Python Jupyter Notebook which contain the complete project includes data preprocessing and ML Model Training.\n",
    "\n",
    "Software Requirement\n",
    "\n",
    "Pytorch, numpy, pandas, torchvision, sklearn, scipy, matplotlib, seaborn\n",
    "\n",
    "Installation.\n",
    "\n",
    "You can install all the softwares saperately or just run this command with requirements.txt given in the zip\n",
    "\n",
    "pip install -r requirements.txt\n",
    "\n",
    "Finally create a folder name \"save\" in the same place where put the notepad file for saving the model temporarily"
   ]
  },
  {
   "cell_type": "code",
   "execution_count": 311,
   "metadata": {},
   "outputs": [
    {
     "name": "stderr",
     "output_type": "stream",
     "text": [
      "[nltk_data] Downloading package punkt to /home/koushik/nltk_data...\n",
      "[nltk_data]   Package punkt is already up-to-date!\n"
     ]
    }
   ],
   "source": [
    "import os\n",
    "import glob\n",
    "import numpy as np\n",
    "import pandas as pd\n",
    "import torch\n",
    "from torch.utils.data import TensorDataset, DataLoader,Dataset\n",
    "import torch.nn as nn\n",
    "import torch.nn.functional as F\n",
    "import torchvision\n",
    "import torchvision.transforms as transforms\n",
    "import torch.optim as optim\n",
    "from torch.optim import lr_scheduler\n",
    "import operator\n",
    "import json\n",
    "from xgboost import XGBClassifier\n",
    "import re, string\n",
    "from sklearn import tree\n",
    "from sklearn import preprocessing\n",
    "from sklearn.preprocessing import StandardScaler, MinMaxScaler\n",
    "from sklearn.decomposition import PCA\n",
    "from sklearn.impute import SimpleImputer\n",
    "from sklearn.naive_bayes import MultinomialNB\n",
    "from collections import Counter\n",
    "from sklearn.preprocessing import LabelEncoder, scale, PolynomialFeatures\n",
    "from sklearn.datasets import load_boston\n",
    "from sklearn.cross_decomposition import PLSRegression, PLSSVD\n",
    "from sklearn.linear_model import LinearRegression, LogisticRegressionCV\n",
    "from sklearn.metrics import mean_squared_error, roc_auc_score, accuracy_score, r2_score, confusion_matrix\n",
    "from sklearn.model_selection import cross_val_score\n",
    "from sklearn.model_selection import KFold\n",
    "from sklearn.model_selection import train_test_split\n",
    "from sklearn.tree import DecisionTreeClassifier \n",
    "from pandas.plotting import scatter_matrix\n",
    "from sklearn.feature_extraction.text import CountVectorizer, TfidfVectorizer\n",
    "from sklearn.datasets import fetch_20newsgroups\n",
    "from datetime import datetime\n",
    "from scipy import stats\n",
    "from sklearn.svm import SVC\n",
    "import torch.utils.data\n",
    "from sklearn.model_selection import train_test_split\n",
    "from sklearn.ensemble import IsolationForest\n",
    "from sklearn.linear_model import LogisticRegression\n",
    "from sklearn.pipeline import Pipeline, FeatureUnion\n",
    "from torch.autograd import Variable\n",
    "from bs4 import BeautifulSoup\n",
    "from sklearn.tree import DecisionTreeClassifier\n",
    "\n",
    "import matplotlib\n",
    "import matplotlib.pyplot as plt\n",
    "import seaborn as sns\n",
    "import nltk\n",
    "from nltk.corpus import stopwords\n",
    "from nltk.stem.porter import *\n",
    "#import cufflinks as cf\n",
    "\n",
    "import warnings\n",
    "warnings.filterwarnings('ignore')\n",
    "nltk.download('punkt')\n",
    "pd.set_option('display.max_columns', 500)\n",
    "\n",
    "#init_notebook_mode(connected=True)\n",
    "#cf.go_offline()"
   ]
  },
  {
   "cell_type": "code",
   "execution_count": null,
   "metadata": {},
   "outputs": [],
   "source": []
  },
  {
   "cell_type": "code",
   "execution_count": 312,
   "metadata": {},
   "outputs": [],
   "source": [
    "train_csv = pd.read_csv(\"Dataset/train.csv\", keep_default_na=False)\n",
    "test_csv = pd.read_csv(\"Dataset/test.csv\", keep_default_na=False)\n",
    "\n",
    "data = {}\n",
    "labels = {}"
   ]
  },
  {
   "cell_type": "code",
   "execution_count": 313,
   "metadata": {},
   "outputs": [
    {
     "data": {
      "text/plain": [
       "(2553, 2)"
      ]
     },
     "execution_count": 313,
     "metadata": {},
     "output_type": "execute_result"
    }
   ],
   "source": [
    "test_csv.shape"
   ]
  },
  {
   "cell_type": "code",
   "execution_count": 314,
   "metadata": {},
   "outputs": [
    {
     "data": {
      "text/plain": [
       "(5959, 3)"
      ]
     },
     "execution_count": 314,
     "metadata": {},
     "output_type": "execute_result"
    }
   ],
   "source": [
    "train_csv.shape"
   ]
  },
  {
   "cell_type": "code",
   "execution_count": 315,
   "metadata": {},
   "outputs": [],
   "source": [
    "stemmer = PorterStemmer()\n",
    "\n",
    "def beautifyAllText(x):\n",
    "    if x != \"\":\n",
    "        text = BeautifulSoup(x, \"html.parser\").get_text() # Remove HTML tags\n",
    "        text = re.sub(r\"[^a-zA-Z0-9]\", \" \", text.lower()) # Convert to lower case\n",
    "        words = text.split() # Split string into words\n",
    "        words = [w for w in words if w not in stopwords.words(\"english\")] # Remove stopwords\n",
    "        words = [PorterStemmer().stem(w) for w in words] # stem\n",
    "        return \" \".join(words)\n",
    "    return x\n",
    "\n",
    "def preprocess_data(dataset):\n",
    "    #dataset.sort_values(\"Review Text\", inplace = True) \n",
    "    #dataset.drop_duplicates(subset =\"Review Text\", keep=False,inplace=False)\n",
    "    #dataset = dataset.reset_index(drop=True)\n",
    "    dataset['Review Text'] = dataset[\"Review Title\"].map(str) + \" \" + dataset['Review Text']\n",
    "    dataset['Review Text'] = dataset[\"Review Text\"].apply(beautifyAllText)\n",
    "    #dataset = dataset.drop(['Review Title'],axis=1)\n",
    "    return dataset"
   ]
  },
  {
   "cell_type": "code",
   "execution_count": 316,
   "metadata": {},
   "outputs": [
    {
     "name": "stdout",
     "output_type": "stream",
     "text": [
      "IMDb reviews (combined): train = 5959, test = 2553\n",
      "                                         Review Text  \\\n",
      "0  bad tast use chia seed protein shake tast like...   \n",
      "1  bad tast use chia seed protein shake tast like...   \n",
      "2                            chang result wast money   \n",
      "3  good vegan choic poor non vegan choic use book...   \n",
      "4  good vegan choic poor non vegan choic use book...   \n",
      "\n",
      "                               Review Title  \n",
      "0                                  Bad tast  \n",
      "1                                  Bad tast  \n",
      "2                    No change. No results.  \n",
      "3  Good Vegan Choice, Poor Non Vegan Choice  \n",
      "4  Good Vegan Choice, Poor Non Vegan Choice  \n"
     ]
    }
   ],
   "source": [
    "test_csv.drop_duplicates(subset =\"Review Text\", keep=False,inplace=False)\n",
    "test_csv = test_csv.reset_index(drop=True)\n",
    "\n",
    "train = preprocess_data(train_csv.copy())\n",
    "test = preprocess_data(test_csv.copy())\n",
    "\n",
    "train_val = train[0:1000]\n",
    "train_val.drop_duplicates(subset =\"Review Text\", keep=False,inplace=False)\n",
    "\n",
    "train_X = train[\"Review Text\"]\n",
    "train_y = train[\"topic\"]\n",
    "test_X = test[\"Review Text\"]\n",
    "\n",
    "lbl = LabelEncoder() \n",
    "lbl.fit(list(train_y.values))\n",
    "\n",
    "train_y_label = lbl.transform(train_y.values)\n",
    "train[\"labels\"] = train_y_label\n",
    "\n",
    "train_val[\"topic\"] = lbl.transform(train_val[\"topic\"].values)\n",
    "\n",
    "binary_label = pd.get_dummies(train_y)\n",
    "\n",
    "#train_X, test_X, train_y, test_y = train_test_split(train[\"Review Text\"], train[\"topic\"], random_state=33)\n",
    "print(\"IMDb reviews (combined): train = {}, test = {}\".format(len(train_X), len(test_X)))\n",
    "#s = \" \".join(train[\"Review Text\"][0:10])\n",
    "print(test.head())"
   ]
  },
  {
   "cell_type": "code",
   "execution_count": 317,
   "metadata": {},
   "outputs": [
    {
     "data": {
      "text/plain": [
       "'useless noth help lost even work eat healthi curb appetit anyth'"
      ]
     },
     "execution_count": 317,
     "metadata": {},
     "output_type": "execute_result"
    }
   ],
   "source": [
    "train_X[0]"
   ]
  },
  {
   "cell_type": "code",
   "execution_count": 318,
   "metadata": {},
   "outputs": [
    {
     "data": {
      "text/plain": [
       "(168.12384628293339, 161.0621470324028, 1665)"
      ]
     },
     "execution_count": 318,
     "metadata": {},
     "output_type": "execute_result"
    }
   ],
   "source": [
    "lens = train_X.str.len()\n",
    "lens.mean(), lens.std(), lens.max()"
   ]
  },
  {
   "cell_type": "code",
   "execution_count": 319,
   "metadata": {},
   "outputs": [
    {
     "data": {
      "text/html": [
       "<div>\n",
       "<style scoped>\n",
       "    .dataframe tbody tr th:only-of-type {\n",
       "        vertical-align: middle;\n",
       "    }\n",
       "\n",
       "    .dataframe tbody tr th {\n",
       "        vertical-align: top;\n",
       "    }\n",
       "\n",
       "    .dataframe thead th {\n",
       "        text-align: right;\n",
       "    }\n",
       "</style>\n",
       "<table border=\"1\" class=\"dataframe\">\n",
       "  <thead>\n",
       "    <tr style=\"text-align: right;\">\n",
       "      <th></th>\n",
       "      <th>Review Text</th>\n",
       "      <th>Review Title</th>\n",
       "      <th>topic</th>\n",
       "      <th>labels</th>\n",
       "    </tr>\n",
       "  </thead>\n",
       "  <tbody>\n",
       "    <tr>\n",
       "      <th>0</th>\n",
       "      <td>useless noth help lost even work eat healthi c...</td>\n",
       "      <td>Useless</td>\n",
       "      <td>Shipment and delivery</td>\n",
       "      <td>15</td>\n",
       "    </tr>\n",
       "    <tr>\n",
       "      <th>1</th>\n",
       "      <td>useless noth help lost even work eat healthi c...</td>\n",
       "      <td>Useless</td>\n",
       "      <td>Not Effective</td>\n",
       "      <td>11</td>\n",
       "    </tr>\n",
       "    <tr>\n",
       "      <th>2</th>\n",
       "      <td>trash buy bag waist time bought bag immedi ope...</td>\n",
       "      <td>TRASH!!! Do not buy these bags it’s a waist of...</td>\n",
       "      <td>Customer Service</td>\n",
       "      <td>4</td>\n",
       "    </tr>\n",
       "    <tr>\n",
       "      <th>3</th>\n",
       "      <td>recommend gave allerg reaction face</td>\n",
       "      <td>Do not recommend</td>\n",
       "      <td>Allergic</td>\n",
       "      <td>0</td>\n",
       "    </tr>\n",
       "    <tr>\n",
       "      <th>4</th>\n",
       "      <td>tackl big mess compar name brand wipe famili 5...</td>\n",
       "      <td>Can't tackle big messes</td>\n",
       "      <td>Texture</td>\n",
       "      <td>17</td>\n",
       "    </tr>\n",
       "  </tbody>\n",
       "</table>\n",
       "</div>"
      ],
      "text/plain": [
       "                                         Review Text  \\\n",
       "0  useless noth help lost even work eat healthi c...   \n",
       "1  useless noth help lost even work eat healthi c...   \n",
       "2  trash buy bag waist time bought bag immedi ope...   \n",
       "3                recommend gave allerg reaction face   \n",
       "4  tackl big mess compar name brand wipe famili 5...   \n",
       "\n",
       "                                        Review Title                  topic  \\\n",
       "0                                            Useless  Shipment and delivery   \n",
       "1                                            Useless          Not Effective   \n",
       "2  TRASH!!! Do not buy these bags it’s a waist of...       Customer Service   \n",
       "3                                   Do not recommend               Allergic   \n",
       "4                            Can't tackle big messes                Texture   \n",
       "\n",
       "   labels  \n",
       "0      15  \n",
       "1      11  \n",
       "2       4  \n",
       "3       0  \n",
       "4      17  "
      ]
     },
     "execution_count": 319,
     "metadata": {},
     "output_type": "execute_result"
    }
   ],
   "source": [
    "train.head()"
   ]
  },
  {
   "cell_type": "code",
   "execution_count": 320,
   "metadata": {},
   "outputs": [
    {
     "data": {
      "image/png": "[encoded data removed]",
      "text/plain": [
       "<Figure size 432x288 with 1 Axes>"
      ]
     },
     "metadata": {
      "needs_background": "light"
     },
     "output_type": "display_data"
    }
   ],
   "source": [
    "lens.hist();"
   ]
  },
  {
   "cell_type": "code",
   "execution_count": 321,
   "metadata": {},
   "outputs": [
    {
     "data": {
      "text/plain": [
       "<matplotlib.legend.Legend at 0x7fb02fd05d68>"
      ]
     },
     "execution_count": 321,
     "metadata": {},
     "output_type": "execute_result"
    },
    {
     "data": {
      "image/png": "[encoded data removed]",
      "text/plain": [
       "<Figure size 720x576 with 1 Axes>"
      ]
     },
     "metadata": {
      "needs_background": "light"
     },
     "output_type": "display_data"
    }
   ],
   "source": [
    "plt.figure(figsize=(10, 8))\n",
    "plt.hist(train_y_label, 5, alpha=0.2, density=True)\n",
    "plt.hist(\n",
    "    [train.loc[train['Review Text'].apply(lambda p: ',' in p), 'labels'],\n",
    "     train.loc[train['Review Text'].apply(lambda p: '.' in p), 'labels'],\n",
    "     train.loc[train['Review Text'].apply(lambda p: '!' in p), 'labels'],\n",
    "     train.loc[train['Review Text'].apply(lambda p: '?' in p), 'labels']],\n",
    "    5, alpha=0.5, density=True,\n",
    "    label=[',', '.', '!', '?'])\n",
    "\n",
    "plt.xlabel('labels')\n",
    "plt.ylabel('probability')\n",
    "plt.grid(alpha=0.25)\n",
    "plt.legend(loc='upper right')"
   ]
  },
  {
   "cell_type": "code",
   "execution_count": 322,
   "metadata": {},
   "outputs": [
    {
     "data": {
      "text/html": [
       "<div>\n",
       "<style scoped>\n",
       "    .dataframe tbody tr th:only-of-type {\n",
       "        vertical-align: middle;\n",
       "    }\n",
       "\n",
       "    .dataframe tbody tr th {\n",
       "        vertical-align: top;\n",
       "    }\n",
       "\n",
       "    .dataframe thead th {\n",
       "        text-align: right;\n",
       "    }\n",
       "</style>\n",
       "<table border=\"1\" class=\"dataframe\">\n",
       "  <thead>\n",
       "    <tr style=\"text-align: right;\">\n",
       "      <th></th>\n",
       "      <th>Review Text</th>\n",
       "      <th>Review Title</th>\n",
       "      <th>labels</th>\n",
       "    </tr>\n",
       "    <tr>\n",
       "      <th>topic</th>\n",
       "      <th></th>\n",
       "      <th></th>\n",
       "      <th></th>\n",
       "    </tr>\n",
       "  </thead>\n",
       "  <tbody>\n",
       "    <tr>\n",
       "      <th>Allergic</th>\n",
       "      <td>567</td>\n",
       "      <td>567</td>\n",
       "      <td>567</td>\n",
       "    </tr>\n",
       "    <tr>\n",
       "      <th>Bad Taste/Flavor</th>\n",
       "      <td>1194</td>\n",
       "      <td>1194</td>\n",
       "      <td>1194</td>\n",
       "    </tr>\n",
       "    <tr>\n",
       "      <th>Color and texture</th>\n",
       "      <td>234</td>\n",
       "      <td>234</td>\n",
       "      <td>234</td>\n",
       "    </tr>\n",
       "    <tr>\n",
       "      <th>Customer Issues</th>\n",
       "      <td>8</td>\n",
       "      <td>8</td>\n",
       "      <td>8</td>\n",
       "    </tr>\n",
       "    <tr>\n",
       "      <th>Customer Service</th>\n",
       "      <td>239</td>\n",
       "      <td>239</td>\n",
       "      <td>239</td>\n",
       "    </tr>\n",
       "    <tr>\n",
       "      <th>Didn't Like</th>\n",
       "      <td>31</td>\n",
       "      <td>31</td>\n",
       "      <td>31</td>\n",
       "    </tr>\n",
       "    <tr>\n",
       "      <th>Expiry</th>\n",
       "      <td>136</td>\n",
       "      <td>136</td>\n",
       "      <td>136</td>\n",
       "    </tr>\n",
       "    <tr>\n",
       "      <th>False Advertisement</th>\n",
       "      <td>37</td>\n",
       "      <td>37</td>\n",
       "      <td>37</td>\n",
       "    </tr>\n",
       "    <tr>\n",
       "      <th>Hard to Chew</th>\n",
       "      <td>6</td>\n",
       "      <td>6</td>\n",
       "      <td>6</td>\n",
       "    </tr>\n",
       "    <tr>\n",
       "      <th>Inferior to competitors</th>\n",
       "      <td>44</td>\n",
       "      <td>44</td>\n",
       "      <td>44</td>\n",
       "    </tr>\n",
       "    <tr>\n",
       "      <th>Ingredients</th>\n",
       "      <td>216</td>\n",
       "      <td>216</td>\n",
       "      <td>216</td>\n",
       "    </tr>\n",
       "    <tr>\n",
       "      <th>Not Effective</th>\n",
       "      <td>611</td>\n",
       "      <td>611</td>\n",
       "      <td>611</td>\n",
       "    </tr>\n",
       "    <tr>\n",
       "      <th>Packaging</th>\n",
       "      <td>467</td>\n",
       "      <td>467</td>\n",
       "      <td>467</td>\n",
       "    </tr>\n",
       "    <tr>\n",
       "      <th>Pricing</th>\n",
       "      <td>107</td>\n",
       "      <td>107</td>\n",
       "      <td>107</td>\n",
       "    </tr>\n",
       "    <tr>\n",
       "      <th>Quality/Contaminated</th>\n",
       "      <td>715</td>\n",
       "      <td>715</td>\n",
       "      <td>715</td>\n",
       "    </tr>\n",
       "    <tr>\n",
       "      <th>Shipment and delivery</th>\n",
       "      <td>390</td>\n",
       "      <td>390</td>\n",
       "      <td>390</td>\n",
       "    </tr>\n",
       "    <tr>\n",
       "      <th>Smells Bad</th>\n",
       "      <td>123</td>\n",
       "      <td>123</td>\n",
       "      <td>123</td>\n",
       "    </tr>\n",
       "    <tr>\n",
       "      <th>Texture</th>\n",
       "      <td>410</td>\n",
       "      <td>410</td>\n",
       "      <td>410</td>\n",
       "    </tr>\n",
       "    <tr>\n",
       "      <th>Too Sweet</th>\n",
       "      <td>97</td>\n",
       "      <td>97</td>\n",
       "      <td>97</td>\n",
       "    </tr>\n",
       "    <tr>\n",
       "      <th>Too big to swallow</th>\n",
       "      <td>228</td>\n",
       "      <td>228</td>\n",
       "      <td>228</td>\n",
       "    </tr>\n",
       "    <tr>\n",
       "      <th>Wrong Product received</th>\n",
       "      <td>99</td>\n",
       "      <td>99</td>\n",
       "      <td>99</td>\n",
       "    </tr>\n",
       "  </tbody>\n",
       "</table>\n",
       "</div>"
      ],
      "text/plain": [
       "                         Review Text  Review Title  labels\n",
       "topic                                                     \n",
       "Allergic                         567           567     567\n",
       "Bad Taste/Flavor                1194          1194    1194\n",
       "Color and texture                234           234     234\n",
       "Customer Issues                    8             8       8\n",
       "Customer Service                 239           239     239\n",
       "Didn't Like                       31            31      31\n",
       "Expiry                           136           136     136\n",
       "False Advertisement               37            37      37\n",
       "Hard to Chew                       6             6       6\n",
       "Inferior to competitors           44            44      44\n",
       "Ingredients                      216           216     216\n",
       "Not Effective                    611           611     611\n",
       "Packaging                        467           467     467\n",
       "Pricing                          107           107     107\n",
       "Quality/Contaminated             715           715     715\n",
       "Shipment and delivery            390           390     390\n",
       "Smells Bad                       123           123     123\n",
       "Texture                          410           410     410\n",
       "Too Sweet                         97            97      97\n",
       "Too big to swallow               228           228     228\n",
       "Wrong Product received            99            99      99"
      ]
     },
     "execution_count": 322,
     "metadata": {},
     "output_type": "execute_result"
    }
   ],
   "source": [
    "train.groupby('topic').count()"
   ]
  },
  {
   "cell_type": "code",
   "execution_count": 323,
   "metadata": {},
   "outputs": [],
   "source": [
    "#train.groupby('topic').count()['Review Title'].sort_values(ascending=False).iplot(kind='bar', yTitle='Count', linecolor='black', opacity=0.8, title='Bar chart of Department Name', xTitle='Department Name')"
   ]
  },
  {
   "cell_type": "code",
   "execution_count": 324,
   "metadata": {},
   "outputs": [],
   "source": [
    "#train_X.fillna(\"unknown\", inplace=True)\n",
    "#test_X.fillna(\"unknown\", inplace=True)\n",
    "#train_val[\"Review Text\"].fillna(\"unknown\", inplace=True)"
   ]
  },
  {
   "cell_type": "code",
   "execution_count": 325,
   "metadata": {},
   "outputs": [],
   "source": [
    "re_tok = re.compile(f'([{string.punctuation}“”¨«»®´·º½¾¿¡§£₤‘’])')\n",
    "def tokenize(s): return re_tok.sub(r' \\1 ', s).split()"
   ]
  },
  {
   "cell_type": "code",
   "execution_count": 326,
   "metadata": {},
   "outputs": [
    {
     "name": "stdout",
     "output_type": "stream",
     "text": [
      "6300\n"
     ]
    }
   ],
   "source": [
    "n = train_X.shape[0]\n",
    "\n",
    "vec = TfidfVectorizer(ngram_range=(1,5), smooth_idf=True, use_idf=True, sublinear_tf=1, max_features=6300, \n",
    "                      strip_accents='unicode' )    \n",
    "\"\"\"\n",
    "vec = TfidfVectorizer(ngram_range=(1,2), tokenizer=tokenize,\n",
    "               min_df=3, max_df=0.9, strip_accents='unicode', use_idf=1,\n",
    "               smooth_idf=1, sublinear_tf=1 )\n",
    "\"\"\"\n",
    "\n",
    "vec = vec.fit(pd.concat([train_X, test_X], axis=0))\n",
    "\n",
    "trn_term_doc = vec.transform(train_X)\n",
    "val_term_doc = vec.transform(train_val[\"Review Text\"])\n",
    "test_term_doc = vec.transform(test_X)\n",
    "\n",
    "print(len(vec.get_feature_names()))"
   ]
  },
  {
   "cell_type": "code",
   "execution_count": 327,
   "metadata": {},
   "outputs": [
    {
     "name": "stdout",
     "output_type": "stream",
     "text": [
      "(5959, 6300)\n",
      "<class 'scipy.sparse.csr.csr_matrix'>\n",
      "[[0. 0. 0. ... 0. 0. 0.]\n",
      " [0. 0. 0. ... 0. 0. 0.]\n",
      " [0. 0. 0. ... 0. 0. 0.]\n",
      " ...\n",
      " [0. 0. 0. ... 0. 0. 0.]\n",
      " [0. 0. 0. ... 0. 0. 0.]\n",
      " [0. 0. 0. ... 0. 0. 0.]]\n"
     ]
    }
   ],
   "source": [
    "print(trn_term_doc.shape)\n",
    "print(type(trn_term_doc))\n",
    "print(trn_term_doc.toarray())"
   ]
  },
  {
   "cell_type": "code",
   "execution_count": 328,
   "metadata": {},
   "outputs": [],
   "source": [
    "#print(trn_term_doc)"
   ]
  },
  {
   "cell_type": "code",
   "execution_count": 329,
   "metadata": {},
   "outputs": [
    {
     "data": {
      "text/plain": [
       "(<5959x6300 sparse matrix of type '<class 'numpy.float64'>'\n",
       " \twith 168774 stored elements in Compressed Sparse Row format>,\n",
       " <2553x6300 sparse matrix of type '<class 'numpy.float64'>'\n",
       " \twith 73446 stored elements in Compressed Sparse Row format>,\n",
       " <1000x6300 sparse matrix of type '<class 'numpy.float64'>'\n",
       " \twith 27290 stored elements in Compressed Sparse Row format>)"
      ]
     },
     "execution_count": 329,
     "metadata": {},
     "output_type": "execute_result"
    }
   ],
   "source": [
    "trn_term_doc, test_term_doc, val_term_doc"
   ]
  },
  {
   "cell_type": "code",
   "execution_count": 330,
   "metadata": {},
   "outputs": [],
   "source": [
    "x = trn_term_doc\n",
    "test_term = test_term_doc\n",
    "X_val = val_term_doc\n",
    "\n",
    "#X_train, X_val, y_train, y_val = train_test_split(x, binary_label, random_state=0)"
   ]
  },
  {
   "cell_type": "code",
   "execution_count": 331,
   "metadata": {},
   "outputs": [],
   "source": [
    "def pr(y_i, y):\n",
    "    p = x[y==y_i].sum(0)\n",
    "    return (p+1) / ((y==y_i).sum()+1)"
   ]
  },
  {
   "cell_type": "code",
   "execution_count": 332,
   "metadata": {},
   "outputs": [],
   "source": [
    "def get_mdl(y):\n",
    "    y = y.values\n",
    "    r = np.log(pr(1,y) / pr(0,y))\n",
    "    m = LogisticRegression(C=4, dual=True)\n",
    "    x_nb = x.multiply(r)\n",
    "    return m.fit(x_nb, y), r"
   ]
  },
  {
   "cell_type": "code",
   "execution_count": 333,
   "metadata": {},
   "outputs": [
    {
     "name": "stdout",
     "output_type": "stream",
     "text": [
      "   Allergic  Bad Taste/Flavor  Color and texture  Customer Issues  \\\n",
      "0         0                 0                  0                0   \n",
      "1         0                 0                  0                0   \n",
      "2         0                 0                  0                0   \n",
      "3         1                 0                  0                0   \n",
      "4         0                 0                  0                0   \n",
      "\n",
      "   Customer Service  Didn't Like  Expiry  False Advertisement  Hard to Chew  \\\n",
      "0                 0            0       0                    0             0   \n",
      "1                 0            0       0                    0             0   \n",
      "2                 1            0       0                    0             0   \n",
      "3                 0            0       0                    0             0   \n",
      "4                 0            0       0                    0             0   \n",
      "\n",
      "   Inferior to competitors  Ingredients  Not Effective  Packaging  Pricing  \\\n",
      "0                        0            0              0          0        0   \n",
      "1                        0            0              1          0        0   \n",
      "2                        0            0              0          0        0   \n",
      "3                        0            0              0          0        0   \n",
      "4                        0            0              0          0        0   \n",
      "\n",
      "   Quality/Contaminated  Shipment and delivery  Smells Bad  Texture  \\\n",
      "0                     0                      1           0        0   \n",
      "1                     0                      0           0        0   \n",
      "2                     0                      0           0        0   \n",
      "3                     0                      0           0        0   \n",
      "4                     0                      0           0        1   \n",
      "\n",
      "   Too Sweet  Too big to swallow  Wrong Product received  \n",
      "0          0                   0                       0  \n",
      "1          0                   0                       0  \n",
      "2          0                   0                       0  \n",
      "3          0                   0                       0  \n",
      "4          0                   0                       0  \n"
     ]
    }
   ],
   "source": [
    "print(binary_label.head())"
   ]
  },
  {
   "cell_type": "code",
   "execution_count": 334,
   "metadata": {},
   "outputs": [
    {
     "name": "stdout",
     "output_type": "stream",
     "text": [
      "Index(['Allergic', 'Bad Taste/Flavor', 'Color and texture', 'Customer Issues',\n",
      "       'Customer Service', 'Didn't Like', 'Expiry', 'False Advertisement',\n",
      "       'Hard to Chew', 'Inferior to competitors', 'Ingredients',\n",
      "       'Not Effective', 'Packaging', 'Pricing', 'Quality/Contaminated',\n",
      "       'Shipment and delivery', 'Smells Bad', 'Texture', 'Too Sweet',\n",
      "       'Too big to swallow', 'Wrong Product received'],\n",
      "      dtype='object')\n"
     ]
    }
   ],
   "source": [
    "label_cols = binary_label.columns;\n",
    "print(label_cols)"
   ]
  },
  {
   "cell_type": "code",
   "execution_count": 335,
   "metadata": {},
   "outputs": [
    {
     "name": "stdout",
     "output_type": "stream",
     "text": [
      "0.7033059238127203\n",
      "0.709\n",
      "[14 14 11 ...  0 14  4]\n"
     ]
    }
   ],
   "source": [
    "final_preds = np.zeros((len(test_X), len(label_cols)))\n",
    "#print(preds.shape)\n",
    "\n",
    "model = LogisticRegressionCV()\n",
    "#model = SVC(class_weight=None)\n",
    "#model = MultinomialNB()\n",
    "#model = DecisionTreeClassifier(random_state=0)\n",
    "\n",
    "model = model.fit(x, list(train_y_label))\n",
    "train_score = model.score(x, train_y_label)\n",
    "print(train_score)\n",
    "\n",
    "preds = model.predict(X_val)\n",
    "test_score = model.score(X_val, train_val[\"topic\"])\n",
    "print(test_score)\n",
    "\n",
    "\n",
    "final_preds = model.predict(test_term)\n",
    "\"\"\"\n",
    "for i, col in enumerate(label_cols):\n",
    "    print('fit', col)\n",
    "    m,r = get_mdl(binary_label[col])\n",
    "    final_preds[:,i] = m.predict_proba(test_term.multiply(r))[:,1]\n",
    "\n",
    "\"\"\"\n",
    "print(final_preds)"
   ]
  },
  {
   "cell_type": "code",
   "execution_count": 336,
   "metadata": {},
   "outputs": [
    {
     "data": {
      "text/plain": [
       "\"\\nfinal_preds = np.zeros((len(test_X), len(label_cols)))\\nprint(final_preds.shape)\\n\\nfor i, col in enumerate(label_cols):\\n    print('fit', col)\\n    m,r = get_mdl(binary_label[col])\\n    final_preds[:,i] = m.predict_proba(test_term.multiply(r))[:,1]\\n\\n#print(preds)\\n\\noutput = []\\nfor row in final_preds:\\n    output.append(np.argmax(row))\\nprint(output)\\n\""
      ]
     },
     "execution_count": 336,
     "metadata": {},
     "output_type": "execute_result"
    }
   ],
   "source": [
    "\"\"\"\n",
    "final_preds = np.zeros((len(test_X), len(label_cols)))\n",
    "print(final_preds.shape)\n",
    "\n",
    "for i, col in enumerate(label_cols):\n",
    "    print('fit', col)\n",
    "    m,r = get_mdl(binary_label[col])\n",
    "    final_preds[:,i] = m.predict_proba(test_term.multiply(r))[:,1]\n",
    "\n",
    "#print(preds)\n",
    "\n",
    "output = []\n",
    "for row in final_preds:\n",
    "    output.append(np.argmax(row))\n",
    "print(output)\n",
    "\"\"\""
   ]
  },
  {
   "cell_type": "code",
   "execution_count": 337,
   "metadata": {
    "scrolled": true
   },
   "outputs": [
    {
     "data": {
      "text/html": [
       "<div>\n",
       "<style scoped>\n",
       "    .dataframe tbody tr th:only-of-type {\n",
       "        vertical-align: middle;\n",
       "    }\n",
       "\n",
       "    .dataframe tbody tr th {\n",
       "        vertical-align: top;\n",
       "    }\n",
       "\n",
       "    .dataframe thead th {\n",
       "        text-align: right;\n",
       "    }\n",
       "</style>\n",
       "<table border=\"1\" class=\"dataframe\">\n",
       "  <thead>\n",
       "    <tr style=\"text-align: right;\">\n",
       "      <th></th>\n",
       "      <th>Review Text</th>\n",
       "      <th>Review Title</th>\n",
       "      <th>topic</th>\n",
       "    </tr>\n",
       "  </thead>\n",
       "  <tbody>\n",
       "    <tr>\n",
       "      <th>0</th>\n",
       "      <td>I use chia seed in my protein shakes. These ta...</td>\n",
       "      <td>Bad tast</td>\n",
       "      <td>Quality/Contaminated</td>\n",
       "    </tr>\n",
       "    <tr>\n",
       "      <th>1</th>\n",
       "      <td>I use chia seed in my protein shakes. These ta...</td>\n",
       "      <td>Bad tast</td>\n",
       "      <td>Quality/Contaminated</td>\n",
       "    </tr>\n",
       "    <tr>\n",
       "      <th>2</th>\n",
       "      <td>Don’t waste your money.</td>\n",
       "      <td>No change. No results.</td>\n",
       "      <td>Not Effective</td>\n",
       "    </tr>\n",
       "    <tr>\n",
       "      <th>3</th>\n",
       "      <td>I use the book 'Fortify Your Life' by Tieraona...</td>\n",
       "      <td>Good Vegan Choice, Poor Non Vegan Choice</td>\n",
       "      <td>Ingredients</td>\n",
       "    </tr>\n",
       "    <tr>\n",
       "      <th>4</th>\n",
       "      <td>I use the book 'Fortify Your Life' by Tieraona...</td>\n",
       "      <td>Good Vegan Choice, Poor Non Vegan Choice</td>\n",
       "      <td>Ingredients</td>\n",
       "    </tr>\n",
       "  </tbody>\n",
       "</table>\n",
       "</div>"
      ],
      "text/plain": [
       "                                         Review Text  \\\n",
       "0  I use chia seed in my protein shakes. These ta...   \n",
       "1  I use chia seed in my protein shakes. These ta...   \n",
       "2                            Don’t waste your money.   \n",
       "3  I use the book 'Fortify Your Life' by Tieraona...   \n",
       "4  I use the book 'Fortify Your Life' by Tieraona...   \n",
       "\n",
       "                               Review Title                 topic  \n",
       "0                                  Bad tast  Quality/Contaminated  \n",
       "1                                  Bad tast  Quality/Contaminated  \n",
       "2                    No change. No results.         Not Effective  \n",
       "3  Good Vegan Choice, Poor Non Vegan Choice           Ingredients  \n",
       "4  Good Vegan Choice, Poor Non Vegan Choice           Ingredients  "
      ]
     },
     "metadata": {},
     "output_type": "display_data"
    }
   ],
   "source": [
    "predictions = pd.DataFrame(test_csv[\"Review Text\"].values, columns = [\"Review Text\"])\n",
    "predictions[\"Review Title\"] = test_csv[\"Review Title\"].values\n",
    "predictions[\"topic\"] = pd.Series(lbl.inverse_transform(final_preds))\n",
    "display(predictions.head())\n",
    "predictions.to_csv('submission_10.csv', index=False)"
   ]
  },
  {
   "cell_type": "code",
   "execution_count": 338,
   "metadata": {},
   "outputs": [
    {
     "name": "stdout",
     "output_type": "stream",
     "text": [
      "Once deleted, variables cannot be recovered. Proceed (y/[n])? y\n"
     ]
    }
   ],
   "source": [
    "%reset"
   ]
  },
  {
   "cell_type": "code",
   "execution_count": null,
   "metadata": {},
   "outputs": [],
   "source": []
  }
 ],
 "metadata": {
  "kernelspec": {
   "display_name": "Python 3",
   "language": "python",
   "name": "python3"
  },
  "language_info": {
   "codemirror_mode": {
    "name": "ipython",
    "version": 3
   },
   "file_extension": ".py",
   "mimetype": "text/x-python",
   "name": "python",
   "nbconvert_exporter": "python",
   "pygments_lexer": "ipython3",
   "version": "3.7.3"
  }
 },
 "nbformat": 4,
 "nbformat_minor": 2
}
